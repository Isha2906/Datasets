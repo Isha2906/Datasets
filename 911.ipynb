{
  "nbformat": 4,
  "nbformat_minor": 0,
  "metadata": {
    "colab": {
      "name": "911.ipynb",
      "provenance": [],
      "collapsed_sections": [],
      "authorship_tag": "ABX9TyN7Dx6/VSzh52345bpUB04L",
      "include_colab_link": true
    },
    "kernelspec": {
      "name": "python3",
      "display_name": "Python 3"
    },
    "language_info": {
      "name": "python"
    },
    "accelerator": "GPU"
  },
  "cells": [
    {
      "cell_type": "markdown",
      "metadata": {
        "id": "view-in-github",
        "colab_type": "text"
      },
      "source": [
        "<a href=\"https://colab.research.google.com/github/Isha2906/Datasets/blob/main/911.ipynb\" target=\"_parent\"><img src=\"https://colab.research.google.com/assets/colab-badge.svg\" alt=\"Open In Colab\"/></a>"
      ]
    },
    {
      "cell_type": "code",
      "metadata": {
        "id": "i2MGZhSNgl0a"
      },
      "source": [
        "import numpy as np\n",
        "import pandas as pd\n",
        "import matplotlib.pyplot as plt\n",
        "from matplotlib.pyplot import figure\n",
        "import seaborn as sns\n",
        "%matplotlib inline\n",
        "sns.set_style('whitegrid')"
      ],
      "execution_count": null,
      "outputs": []
    },
    {
      "cell_type": "code",
      "metadata": {
        "id": "1kPL0BPUhdaB"
      },
      "source": [
        "df= pd.read_csv('/content/911.csv')"
      ],
      "execution_count": null,
      "outputs": []
    },
    {
      "cell_type": "code",
      "metadata": {
        "colab": {
          "base_uri": "https://localhost:8080/",
          "height": 288
        },
        "id": "R8TwQnpeiDzV",
        "outputId": "e85d0aca-deea-4120-d10d-3326340eb031"
      },
      "source": [
        "df.head()"
      ],
      "execution_count": null,
      "outputs": [
        {
          "output_type": "execute_result",
          "data": {
            "text/html": [
              "<div>\n",
              "<style scoped>\n",
              "    .dataframe tbody tr th:only-of-type {\n",
              "        vertical-align: middle;\n",
              "    }\n",
              "\n",
              "    .dataframe tbody tr th {\n",
              "        vertical-align: top;\n",
              "    }\n",
              "\n",
              "    .dataframe thead th {\n",
              "        text-align: right;\n",
              "    }\n",
              "</style>\n",
              "<table border=\"1\" class=\"dataframe\">\n",
              "  <thead>\n",
              "    <tr style=\"text-align: right;\">\n",
              "      <th></th>\n",
              "      <th>lat</th>\n",
              "      <th>lng</th>\n",
              "      <th>desc</th>\n",
              "      <th>zip</th>\n",
              "      <th>title</th>\n",
              "      <th>timeStamp</th>\n",
              "      <th>twp</th>\n",
              "      <th>addr</th>\n",
              "      <th>e</th>\n",
              "    </tr>\n",
              "  </thead>\n",
              "  <tbody>\n",
              "    <tr>\n",
              "      <th>0</th>\n",
              "      <td>40.297876</td>\n",
              "      <td>-75.581294</td>\n",
              "      <td>REINDEER CT &amp; DEAD END;  NEW HANOVER; Station ...</td>\n",
              "      <td>19525.0</td>\n",
              "      <td>EMS: BACK PAINS/INJURY</td>\n",
              "      <td>2015-12-10 17:10:52</td>\n",
              "      <td>NEW HANOVER</td>\n",
              "      <td>REINDEER CT &amp; DEAD END</td>\n",
              "      <td>1.0</td>\n",
              "    </tr>\n",
              "    <tr>\n",
              "      <th>1</th>\n",
              "      <td>40.258061</td>\n",
              "      <td>-75.264680</td>\n",
              "      <td>BRIAR PATH &amp; WHITEMARSH LN;  HATFIELD TOWNSHIP...</td>\n",
              "      <td>19446.0</td>\n",
              "      <td>EMS: DIABETIC EMERGENCY</td>\n",
              "      <td>2015-12-10 17:29:21</td>\n",
              "      <td>HATFIELD TOWNSHIP</td>\n",
              "      <td>BRIAR PATH &amp; WHITEMARSH LN</td>\n",
              "      <td>1.0</td>\n",
              "    </tr>\n",
              "    <tr>\n",
              "      <th>2</th>\n",
              "      <td>40.121182</td>\n",
              "      <td>-75.351975</td>\n",
              "      <td>HAWS AVE; NORRISTOWN; 2015-12-10 @ 14:39:21-St...</td>\n",
              "      <td>19401.0</td>\n",
              "      <td>Fire: GAS-ODOR/LEAK</td>\n",
              "      <td>2015-12-10 14:39:21</td>\n",
              "      <td>NORRISTOWN</td>\n",
              "      <td>HAWS AVE</td>\n",
              "      <td>1.0</td>\n",
              "    </tr>\n",
              "    <tr>\n",
              "      <th>3</th>\n",
              "      <td>40.116153</td>\n",
              "      <td>-75.343513</td>\n",
              "      <td>AIRY ST &amp; SWEDE ST;  NORRISTOWN; Station 308A;...</td>\n",
              "      <td>19401.0</td>\n",
              "      <td>EMS: CARDIAC EMERGENCY</td>\n",
              "      <td>2015-12-10 16:47:36</td>\n",
              "      <td>NORRISTOWN</td>\n",
              "      <td>AIRY ST &amp; SWEDE ST</td>\n",
              "      <td>1.0</td>\n",
              "    </tr>\n",
              "    <tr>\n",
              "      <th>4</th>\n",
              "      <td>40.251492</td>\n",
              "      <td>-75.603350</td>\n",
              "      <td>CHERRYWOOD CT &amp; DEAD END;  LOWER POTTSGROVE; S...</td>\n",
              "      <td>NaN</td>\n",
              "      <td>EMS: DIZZINESS</td>\n",
              "      <td>2015-12-10 16:56:52</td>\n",
              "      <td>LOWER POTTSGROVE</td>\n",
              "      <td>CHERRYWOOD CT &amp; DEAD END</td>\n",
              "      <td>1.0</td>\n",
              "    </tr>\n",
              "  </tbody>\n",
              "</table>\n",
              "</div>"
            ],
            "text/plain": [
              "         lat        lng  ...                        addr    e\n",
              "0  40.297876 -75.581294  ...      REINDEER CT & DEAD END  1.0\n",
              "1  40.258061 -75.264680  ...  BRIAR PATH & WHITEMARSH LN  1.0\n",
              "2  40.121182 -75.351975  ...                    HAWS AVE  1.0\n",
              "3  40.116153 -75.343513  ...          AIRY ST & SWEDE ST  1.0\n",
              "4  40.251492 -75.603350  ...    CHERRYWOOD CT & DEAD END  1.0\n",
              "\n",
              "[5 rows x 9 columns]"
            ]
          },
          "metadata": {
            "tags": []
          },
          "execution_count": 3
        }
      ]
    },
    {
      "cell_type": "code",
      "metadata": {
        "colab": {
          "base_uri": "https://localhost:8080/"
        },
        "id": "Kybs7n9ziG6T",
        "outputId": "19fbc3d1-d590-466c-a237-fd4c2621c29f"
      },
      "source": [
        "df.isnull().sum()"
      ],
      "execution_count": null,
      "outputs": [
        {
          "output_type": "execute_result",
          "data": {
            "text/plain": [
              "lat             0\n",
              "lng             0\n",
              "desc            0\n",
              "zip          3531\n",
              "title           0\n",
              "timeStamp       0\n",
              "twp             8\n",
              "addr            1\n",
              "e               1\n",
              "dtype: int64"
            ]
          },
          "metadata": {
            "tags": []
          },
          "execution_count": 4
        }
      ]
    },
    {
      "cell_type": "code",
      "metadata": {
        "colab": {
          "base_uri": "https://localhost:8080/"
        },
        "id": "nt-XdrvakYlA",
        "outputId": "8b34096b-a340-4dd3-f722-036cb954e84f"
      },
      "source": [
        "df['title'].nunique()"
      ],
      "execution_count": null,
      "outputs": [
        {
          "output_type": "execute_result",
          "data": {
            "text/plain": [
              "91"
            ]
          },
          "metadata": {
            "tags": []
          },
          "execution_count": 5
        }
      ]
    },
    {
      "cell_type": "code",
      "metadata": {
        "colab": {
          "base_uri": "https://localhost:8080/"
        },
        "id": "kb2QXEumUdD1",
        "outputId": "b1db67f7-97c3-44aa-ed86-e6455253c1a5"
      },
      "source": [
        "df['title'].value_counts()"
      ],
      "execution_count": null,
      "outputs": [
        {
          "output_type": "execute_result",
          "data": {
            "text/plain": [
              "Traffic: VEHICLE ACCIDENT -           6789\n",
              "Traffic: DISABLED VEHICLE -           2707\n",
              "Fire: FIRE ALARM                      1543\n",
              "EMS: RESPIRATORY EMERGENCY            1530\n",
              "EMS: CARDIAC EMERGENCY                1419\n",
              "                                      ... \n",
              "Fire: UNKNOWN MEDICAL EMERGENCY          1\n",
              "EMS: UNKNOWN TYPE FIRE                   1\n",
              "Fire: RESCUE - TECHNICAL                 1\n",
              "Fire: MEDICAL ALERT ALARM                1\n",
              "Fire: HAZARDOUS MATERIALS INCIDENT       1\n",
              "Name: title, Length: 91, dtype: int64"
            ]
          },
          "metadata": {
            "tags": []
          },
          "execution_count": 6
        }
      ]
    },
    {
      "cell_type": "code",
      "metadata": {
        "id": "q8RR4ZyaVDUl"
      },
      "source": [
        "#Since only one null value in title column dropping the corressponding row\n",
        "df.dropna(axis = 0 , subset = ['title'], inplace = True)\n"
      ],
      "execution_count": null,
      "outputs": []
    },
    {
      "cell_type": "code",
      "metadata": {
        "colab": {
          "base_uri": "https://localhost:8080/"
        },
        "id": "w9dAX4ydUkcA",
        "outputId": "2d9a3bbc-b81c-4f1c-f755-2709f81eab8b"
      },
      "source": [
        "df.isnull().sum()"
      ],
      "execution_count": null,
      "outputs": [
        {
          "output_type": "execute_result",
          "data": {
            "text/plain": [
              "lat             0\n",
              "lng             0\n",
              "desc            0\n",
              "zip          3531\n",
              "title           0\n",
              "timeStamp       0\n",
              "twp             8\n",
              "addr            1\n",
              "e               1\n",
              "dtype: int64"
            ]
          },
          "metadata": {
            "tags": []
          },
          "execution_count": 8
        }
      ]
    },
    {
      "cell_type": "code",
      "metadata": {
        "id": "RrThj9-GiJLf"
      },
      "source": [
        "#Extracting the primary reason of dialing 911\n",
        "df['Reason'] = df['title'].apply(lambda title: title.split(':')[0])\n"
      ],
      "execution_count": null,
      "outputs": []
    },
    {
      "cell_type": "code",
      "metadata": {
        "colab": {
          "base_uri": "https://localhost:8080/"
        },
        "id": "fB9MOTIQkB6l",
        "outputId": "2491729d-145a-4cb2-d998-9ceb21a05cc7"
      },
      "source": [
        "df['Reason'].value_counts"
      ],
      "execution_count": null,
      "outputs": [
        {
          "output_type": "execute_result",
          "data": {
            "text/plain": [
              "<bound method IndexOpsMixin.value_counts of 0            EMS\n",
              "1            EMS\n",
              "2           Fire\n",
              "3            EMS\n",
              "4            EMS\n",
              "          ...   \n",
              "28311    Traffic\n",
              "28312       Fire\n",
              "28313        EMS\n",
              "28314        EMS\n",
              "28315        EMS\n",
              "Name: Reason, Length: 28316, dtype: object>"
            ]
          },
          "metadata": {
            "tags": []
          },
          "execution_count": 10
        }
      ]
    },
    {
      "cell_type": "code",
      "metadata": {
        "colab": {
          "base_uri": "https://localhost:8080/",
          "height": 300
        },
        "id": "nrKSJLC_lPGz",
        "outputId": "ff714c71-1705-4ad3-d794-67a9f9120e4d"
      },
      "source": [
        "sns.countplot(x='Reason',data = df,hue='Reason',palette='viridis')"
      ],
      "execution_count": null,
      "outputs": [
        {
          "output_type": "execute_result",
          "data": {
            "text/plain": [
              "<matplotlib.axes._subplots.AxesSubplot at 0x7f6e7f477590>"
            ]
          },
          "metadata": {
            "tags": []
          },
          "execution_count": 11
        },
        {
          "output_type": "display_data",
          "data": {
            "image/png": "[encoded data removed]",
            "text/plain": [
              "<Figure size 432x288 with 1 Axes>"
            ]
          },
          "metadata": {
            "tags": [],
            "needs_background": "light"
          }
        }
      ]
    },
    {
      "cell_type": "markdown",
      "metadata": {
        "id": "UchC9M43Y87o"
      },
      "source": [
        "##Emergency Medical Services is the reason with highest frequency to dial 911"
      ]
    },
    {
      "cell_type": "code",
      "metadata": {
        "colab": {
          "base_uri": "https://localhost:8080/"
        },
        "id": "JhmIyu_LX5U1",
        "outputId": "79a99d8a-94ea-4428-de00-75901088df68"
      },
      "source": [
        "df.columns"
      ],
      "execution_count": null,
      "outputs": [
        {
          "output_type": "execute_result",
          "data": {
            "text/plain": [
              "Index(['lat', 'lng', 'desc', 'zip', 'title', 'timeStamp', 'twp', 'addr', 'e',\n",
              "       'Reason'],\n",
              "      dtype='object')"
            ]
          },
          "metadata": {
            "tags": []
          },
          "execution_count": 12
        }
      ]
    },
    {
      "cell_type": "code",
      "metadata": {
        "colab": {
          "base_uri": "https://localhost:8080/"
        },
        "id": "pOULe0uoY5EE",
        "outputId": "99f21ea8-ba55-42bd-9725-88d4404dfddf"
      },
      "source": [
        "type(df['timeStamp'].iloc[0])"
      ],
      "execution_count": null,
      "outputs": [
        {
          "output_type": "execute_result",
          "data": {
            "text/plain": [
              "str"
            ]
          },
          "metadata": {
            "tags": []
          },
          "execution_count": 13
        }
      ]
    },
    {
      "cell_type": "code",
      "metadata": {
        "id": "6gBwq3Z9tREv"
      },
      "source": [
        "#the data type is string. Converting the time stamp column to datetime format to extract the individual attributes"
      ],
      "execution_count": null,
      "outputs": []
    },
    {
      "cell_type": "code",
      "metadata": {
        "id": "gmU6UqhltjG-"
      },
      "source": [
        "df['timeStamp']=pd.to_datetime(df['timeStamp'])"
      ],
      "execution_count": null,
      "outputs": []
    },
    {
      "cell_type": "code",
      "metadata": {
        "id": "U9Scdvrvtvhr"
      },
      "source": [
        "df['Hour']=df['timeStamp'].apply(lambda time:time.hour)\n",
        "df['Month']=df['timeStamp'].apply(lambda time: time.month)\n",
        "df['Day of Week'] = df['timeStamp'].apply(lambda time: time.dayofweek)\n"
      ],
      "execution_count": null,
      "outputs": []
    },
    {
      "cell_type": "code",
      "metadata": {
        "colab": {
          "base_uri": "https://localhost:8080/",
          "height": 604
        },
        "id": "914YBE-F1Nu-",
        "outputId": "29a2b239-4c9e-408c-f316-d82e5ffa5dfe"
      },
      "source": [
        "df.drop(columns='timeStamp',inplace=False)"
      ],
      "execution_count": null,
      "outputs": [
        {
          "output_type": "execute_result",
          "data": {
            "text/html": [
              "<div>\n",
              "<style scoped>\n",
              "    .dataframe tbody tr th:only-of-type {\n",
              "        vertical-align: middle;\n",
              "    }\n",
              "\n",
              "    .dataframe tbody tr th {\n",
              "        vertical-align: top;\n",
              "    }\n",
              "\n",
              "    .dataframe thead th {\n",
              "        text-align: right;\n",
              "    }\n",
              "</style>\n",
              "<table border=\"1\" class=\"dataframe\">\n",
              "  <thead>\n",
              "    <tr style=\"text-align: right;\">\n",
              "      <th></th>\n",
              "      <th>lat</th>\n",
              "      <th>lng</th>\n",
              "      <th>desc</th>\n",
              "      <th>zip</th>\n",
              "      <th>title</th>\n",
              "      <th>twp</th>\n",
              "      <th>addr</th>\n",
              "      <th>e</th>\n",
              "      <th>Reason</th>\n",
              "      <th>Hour</th>\n",
              "      <th>Month</th>\n",
              "      <th>Day of Week</th>\n",
              "    </tr>\n",
              "  </thead>\n",
              "  <tbody>\n",
              "    <tr>\n",
              "      <th>0</th>\n",
              "      <td>40.297876</td>\n",
              "      <td>-75.581294</td>\n",
              "      <td>REINDEER CT &amp; DEAD END;  NEW HANOVER; Station ...</td>\n",
              "      <td>19525.0</td>\n",
              "      <td>EMS: BACK PAINS/INJURY</td>\n",
              "      <td>NEW HANOVER</td>\n",
              "      <td>REINDEER CT &amp; DEAD END</td>\n",
              "      <td>1.0</td>\n",
              "      <td>EMS</td>\n",
              "      <td>17</td>\n",
              "      <td>12</td>\n",
              "      <td>3</td>\n",
              "    </tr>\n",
              "    <tr>\n",
              "      <th>1</th>\n",
              "      <td>40.258061</td>\n",
              "      <td>-75.264680</td>\n",
              "      <td>BRIAR PATH &amp; WHITEMARSH LN;  HATFIELD TOWNSHIP...</td>\n",
              "      <td>19446.0</td>\n",
              "      <td>EMS: DIABETIC EMERGENCY</td>\n",
              "      <td>HATFIELD TOWNSHIP</td>\n",
              "      <td>BRIAR PATH &amp; WHITEMARSH LN</td>\n",
              "      <td>1.0</td>\n",
              "      <td>EMS</td>\n",
              "      <td>17</td>\n",
              "      <td>12</td>\n",
              "      <td>3</td>\n",
              "    </tr>\n",
              "    <tr>\n",
              "      <th>2</th>\n",
              "      <td>40.121182</td>\n",
              "      <td>-75.351975</td>\n",
              "      <td>HAWS AVE; NORRISTOWN; 2015-12-10 @ 14:39:21-St...</td>\n",
              "      <td>19401.0</td>\n",
              "      <td>Fire: GAS-ODOR/LEAK</td>\n",
              "      <td>NORRISTOWN</td>\n",
              "      <td>HAWS AVE</td>\n",
              "      <td>1.0</td>\n",
              "      <td>Fire</td>\n",
              "      <td>14</td>\n",
              "      <td>12</td>\n",
              "      <td>3</td>\n",
              "    </tr>\n",
              "    <tr>\n",
              "      <th>3</th>\n",
              "      <td>40.116153</td>\n",
              "      <td>-75.343513</td>\n",
              "      <td>AIRY ST &amp; SWEDE ST;  NORRISTOWN; Station 308A;...</td>\n",
              "      <td>19401.0</td>\n",
              "      <td>EMS: CARDIAC EMERGENCY</td>\n",
              "      <td>NORRISTOWN</td>\n",
              "      <td>AIRY ST &amp; SWEDE ST</td>\n",
              "      <td>1.0</td>\n",
              "      <td>EMS</td>\n",
              "      <td>16</td>\n",
              "      <td>12</td>\n",
              "      <td>3</td>\n",
              "    </tr>\n",
              "    <tr>\n",
              "      <th>4</th>\n",
              "      <td>40.251492</td>\n",
              "      <td>-75.603350</td>\n",
              "      <td>CHERRYWOOD CT &amp; DEAD END;  LOWER POTTSGROVE; S...</td>\n",
              "      <td>NaN</td>\n",
              "      <td>EMS: DIZZINESS</td>\n",
              "      <td>LOWER POTTSGROVE</td>\n",
              "      <td>CHERRYWOOD CT &amp; DEAD END</td>\n",
              "      <td>1.0</td>\n",
              "      <td>EMS</td>\n",
              "      <td>16</td>\n",
              "      <td>12</td>\n",
              "      <td>3</td>\n",
              "    </tr>\n",
              "    <tr>\n",
              "      <th>...</th>\n",
              "      <td>...</td>\n",
              "      <td>...</td>\n",
              "      <td>...</td>\n",
              "      <td>...</td>\n",
              "      <td>...</td>\n",
              "      <td>...</td>\n",
              "      <td>...</td>\n",
              "      <td>...</td>\n",
              "      <td>...</td>\n",
              "      <td>...</td>\n",
              "      <td>...</td>\n",
              "      <td>...</td>\n",
              "    </tr>\n",
              "    <tr>\n",
              "      <th>28311</th>\n",
              "      <td>40.168538</td>\n",
              "      <td>-75.498200</td>\n",
              "      <td>BLACK ROCK RD &amp; S TRAPPE RD; UPPER PROVIDENCE;...</td>\n",
              "      <td>19468.0</td>\n",
              "      <td>Traffic: VEHICLE ACCIDENT -</td>\n",
              "      <td>UPPER PROVIDENCE</td>\n",
              "      <td>BLACK ROCK RD &amp; S TRAPPE RD</td>\n",
              "      <td>1.0</td>\n",
              "      <td>Traffic</td>\n",
              "      <td>15</td>\n",
              "      <td>2</td>\n",
              "      <td>4</td>\n",
              "    </tr>\n",
              "    <tr>\n",
              "      <th>28312</th>\n",
              "      <td>40.152189</td>\n",
              "      <td>-75.480512</td>\n",
              "      <td>BLACK ROCK RD; UPPER PROVIDENCE; 2016-02-19 @ ...</td>\n",
              "      <td>NaN</td>\n",
              "      <td>Fire: VEHICLE ACCIDENT</td>\n",
              "      <td>UPPER PROVIDENCE</td>\n",
              "      <td>BLACK ROCK RD</td>\n",
              "      <td>1.0</td>\n",
              "      <td>Fire</td>\n",
              "      <td>15</td>\n",
              "      <td>2</td>\n",
              "      <td>4</td>\n",
              "    </tr>\n",
              "    <tr>\n",
              "      <th>28313</th>\n",
              "      <td>40.152189</td>\n",
              "      <td>-75.480512</td>\n",
              "      <td>BLACK ROCK RD;  UPPER PROVIDENCE; Station 324;...</td>\n",
              "      <td>NaN</td>\n",
              "      <td>EMS: VEHICLE ACCIDENT</td>\n",
              "      <td>UPPER PROVIDENCE</td>\n",
              "      <td>BLACK ROCK RD</td>\n",
              "      <td>1.0</td>\n",
              "      <td>EMS</td>\n",
              "      <td>15</td>\n",
              "      <td>2</td>\n",
              "      <td>4</td>\n",
              "    </tr>\n",
              "    <tr>\n",
              "      <th>28314</th>\n",
              "      <td>40.119605</td>\n",
              "      <td>-75.284900</td>\n",
              "      <td>GERMANTOWN PIKE &amp; ATRIUM WAY;  PLYMOUTH; Stati...</td>\n",
              "      <td>19462.0</td>\n",
              "      <td>EMS: OVERDOSE</td>\n",
              "      <td>PLYMOUTH</td>\n",
              "      <td>GERMANTOWN PIKE &amp; ATRIUM WAY</td>\n",
              "      <td>1.0</td>\n",
              "      <td>EMS</td>\n",
              "      <td>15</td>\n",
              "      <td>2</td>\n",
              "      <td>4</td>\n",
              "    </tr>\n",
              "    <tr>\n",
              "      <th>28315</th>\n",
              "      <td>40.092446</td>\n",
              "      <td>-75.176690</td>\n",
              "      <td>FAWN DR &amp; COBDEN RD;  CHELTENHAM; Station 358A...</td>\n",
              "      <td>19038.0</td>\n",
              "      <td>EMS: FALL VICTIM</td>\n",
              "      <td>NaN</td>\n",
              "      <td>NaN</td>\n",
              "      <td>NaN</td>\n",
              "      <td>EMS</td>\n",
              "      <td>15</td>\n",
              "      <td>2</td>\n",
              "      <td>4</td>\n",
              "    </tr>\n",
              "  </tbody>\n",
              "</table>\n",
              "<p>28316 rows × 12 columns</p>\n",
              "</div>"
            ],
            "text/plain": [
              "             lat        lng  ... Month  Day of Week\n",
              "0      40.297876 -75.581294  ...    12            3\n",
              "1      40.258061 -75.264680  ...    12            3\n",
              "2      40.121182 -75.351975  ...    12            3\n",
              "3      40.116153 -75.343513  ...    12            3\n",
              "4      40.251492 -75.603350  ...    12            3\n",
              "...          ...        ...  ...   ...          ...\n",
              "28311  40.168538 -75.498200  ...     2            4\n",
              "28312  40.152189 -75.480512  ...     2            4\n",
              "28313  40.152189 -75.480512  ...     2            4\n",
              "28314  40.119605 -75.284900  ...     2            4\n",
              "28315  40.092446 -75.176690  ...     2            4\n",
              "\n",
              "[28316 rows x 12 columns]"
            ]
          },
          "metadata": {
            "tags": []
          },
          "execution_count": 17
        }
      ]
    },
    {
      "cell_type": "code",
      "metadata": {
        "colab": {
          "base_uri": "https://localhost:8080/"
        },
        "id": "JYHf_X7WuMQm",
        "outputId": "dffc50f2-8f84-487b-dd81-7574f73c228a"
      },
      "source": [
        "df['Hour']"
      ],
      "execution_count": null,
      "outputs": [
        {
          "output_type": "execute_result",
          "data": {
            "text/plain": [
              "0        17\n",
              "1        17\n",
              "2        14\n",
              "3        16\n",
              "4        16\n",
              "         ..\n",
              "28311    15\n",
              "28312    15\n",
              "28313    15\n",
              "28314    15\n",
              "28315    15\n",
              "Name: Hour, Length: 28316, dtype: int64"
            ]
          },
          "metadata": {
            "tags": []
          },
          "execution_count": 18
        }
      ]
    },
    {
      "cell_type": "code",
      "metadata": {
        "colab": {
          "base_uri": "https://localhost:8080/"
        },
        "id": "jyZd5eoWvNIO",
        "outputId": "4d95d251-e6e6-4c33-9705-3236ddec172f"
      },
      "source": [
        "df['Month']"
      ],
      "execution_count": null,
      "outputs": [
        {
          "output_type": "execute_result",
          "data": {
            "text/plain": [
              "0        12\n",
              "1        12\n",
              "2        12\n",
              "3        12\n",
              "4        12\n",
              "         ..\n",
              "28311     2\n",
              "28312     2\n",
              "28313     2\n",
              "28314     2\n",
              "28315     2\n",
              "Name: Month, Length: 28316, dtype: int64"
            ]
          },
          "metadata": {
            "tags": []
          },
          "execution_count": 19
        }
      ]
    },
    {
      "cell_type": "code",
      "metadata": {
        "colab": {
          "base_uri": "https://localhost:8080/"
        },
        "id": "Agu6136EvTA1",
        "outputId": "511a4cfb-805c-419e-823f-ed5b98659f9b"
      },
      "source": [
        "df['Day of Week']"
      ],
      "execution_count": null,
      "outputs": [
        {
          "output_type": "execute_result",
          "data": {
            "text/plain": [
              "0        3\n",
              "1        3\n",
              "2        3\n",
              "3        3\n",
              "4        3\n",
              "        ..\n",
              "28311    4\n",
              "28312    4\n",
              "28313    4\n",
              "28314    4\n",
              "28315    4\n",
              "Name: Day of Week, Length: 28316, dtype: int64"
            ]
          },
          "metadata": {
            "tags": []
          },
          "execution_count": 20
        }
      ]
    },
    {
      "cell_type": "code",
      "metadata": {
        "id": "E0k83lEPvWg0"
      },
      "source": [
        "#The days of the week are given in numerical values starting from 0\n",
        "#Creating a dictionary to map the numeric values ith the corresponding days\n",
        "dmap={0:'Monday',1:'Tuesday',2:'Wednesday',3:'Thursday',4:'Friday',5:'Saturday',6:'Sunday'}"
      ],
      "execution_count": null,
      "outputs": []
    },
    {
      "cell_type": "code",
      "metadata": {
        "id": "NqQcmkuKvv9A"
      },
      "source": [
        "df['Day of Week']=df['Day of Week'].map(dmap)"
      ],
      "execution_count": null,
      "outputs": []
    },
    {
      "cell_type": "code",
      "metadata": {
        "colab": {
          "base_uri": "https://localhost:8080/",
          "height": 297
        },
        "id": "PA46DZUKwAs1",
        "outputId": "65d1496c-432c-4996-e4f6-5bed7d1f179e"
      },
      "source": [
        "sns.countplot(x='Day of Week',data=df,hue='Reason',palette='viridis')\n",
        "#Adjusting the position of legend box\n",
        "plt.legend(bbox_to_anchor=(1,1),loc=2)\n"
      ],
      "execution_count": null,
      "outputs": [
        {
          "output_type": "execute_result",
          "data": {
            "text/plain": [
              "<matplotlib.legend.Legend at 0x7f6e7e7a4f10>"
            ]
          },
          "metadata": {
            "tags": []
          },
          "execution_count": 23
        },
        {
          "output_type": "display_data",
          "data": {
            "image/png": "[encoded data removed]",
            "text/plain": [
              "<Figure size 432x288 with 1 Axes>"
            ]
          },
          "metadata": {
            "tags": [],
            "needs_background": "light"
          }
        }
      ]
    },
    {
      "cell_type": "code",
      "metadata": {
        "colab": {
          "base_uri": "https://localhost:8080/",
          "height": 297
        },
        "id": "onGNZtt7wP0f",
        "outputId": "7d7d2021-1978-422a-9c8f-245fa048f55b"
      },
      "source": [
        "sns.countplot(x='Month',data=df,hue='Reason',palette='viridis')\n",
        "#Adjusting the position of legend box\n",
        "plt.legend(bbox_to_anchor=(1,1),loc=2)\n",
        "\n"
      ],
      "execution_count": null,
      "outputs": [
        {
          "output_type": "execute_result",
          "data": {
            "text/plain": [
              "<matplotlib.legend.Legend at 0x7f6e7e239a10>"
            ]
          },
          "metadata": {
            "tags": []
          },
          "execution_count": 24
        },
        {
          "output_type": "display_data",
          "data": {
            "image/png": "[encoded data removed]",
            "text/plain": [
              "<Figure size 432x288 with 1 Axes>"
            ]
          },
          "metadata": {
            "tags": [],
            "needs_background": "light"
          }
        }
      ]
    },
    {
      "cell_type": "code",
      "metadata": {
        "colab": {
          "base_uri": "https://localhost:8080/",
          "height": 279
        },
        "id": "UkcjyhORxi-S",
        "outputId": "b1131254-fd5b-456a-fb42-100f07e0a3e0"
      },
      "source": [
        "sns.countplot(x='Hour',data=df,hue='Reason',palette='viridis')\n",
        "#Adjusting the position of legend box\n",
        "plt.legend(bbox_to_anchor=(1,1),loc=2)\n",
        "plt.rcParams[\"figure.figsize\"] = (100,3)\n",
        "\n"
      ],
      "execution_count": null,
      "outputs": [
        {
          "output_type": "display_data",
          "data": {
            "image/png": "[encoded data removed]",
            "text/plain": [
              "<Figure size 432x288 with 1 Axes>"
            ]
          },
          "metadata": {
            "tags": [],
            "needs_background": "light"
          }
        }
      ]
    },
    {
      "cell_type": "code",
      "metadata": {
        "colab": {
          "base_uri": "https://localhost:8080/",
          "height": 172
        },
        "id": "a6Yb8Zmyxuqr",
        "outputId": "6aa89960-d01b-42ab-c087-d6da6424131d"
      },
      "source": [
        "bymonth=df.groupby('Month').count()\n",
        "bymonth.head()"
      ],
      "execution_count": null,
      "outputs": [
        {
          "output_type": "execute_result",
          "data": {
            "text/html": [
              "<div>\n",
              "<style scoped>\n",
              "    .dataframe tbody tr th:only-of-type {\n",
              "        vertical-align: middle;\n",
              "    }\n",
              "\n",
              "    .dataframe tbody tr th {\n",
              "        vertical-align: top;\n",
              "    }\n",
              "\n",
              "    .dataframe thead th {\n",
              "        text-align: right;\n",
              "    }\n",
              "</style>\n",
              "<table border=\"1\" class=\"dataframe\">\n",
              "  <thead>\n",
              "    <tr style=\"text-align: right;\">\n",
              "      <th></th>\n",
              "      <th>lat</th>\n",
              "      <th>lng</th>\n",
              "      <th>desc</th>\n",
              "      <th>zip</th>\n",
              "      <th>title</th>\n",
              "      <th>timeStamp</th>\n",
              "      <th>twp</th>\n",
              "      <th>addr</th>\n",
              "      <th>e</th>\n",
              "      <th>Reason</th>\n",
              "      <th>Hour</th>\n",
              "      <th>Day of Week</th>\n",
              "    </tr>\n",
              "    <tr>\n",
              "      <th>Month</th>\n",
              "      <th></th>\n",
              "      <th></th>\n",
              "      <th></th>\n",
              "      <th></th>\n",
              "      <th></th>\n",
              "      <th></th>\n",
              "      <th></th>\n",
              "      <th></th>\n",
              "      <th></th>\n",
              "      <th></th>\n",
              "      <th></th>\n",
              "      <th></th>\n",
              "    </tr>\n",
              "  </thead>\n",
              "  <tbody>\n",
              "    <tr>\n",
              "      <th>1</th>\n",
              "      <td>13096</td>\n",
              "      <td>13096</td>\n",
              "      <td>13096</td>\n",
              "      <td>11512</td>\n",
              "      <td>13096</td>\n",
              "      <td>13096</td>\n",
              "      <td>13094</td>\n",
              "      <td>13096</td>\n",
              "      <td>13096</td>\n",
              "      <td>13096</td>\n",
              "      <td>13096</td>\n",
              "      <td>13096</td>\n",
              "    </tr>\n",
              "    <tr>\n",
              "      <th>2</th>\n",
              "      <td>7304</td>\n",
              "      <td>7304</td>\n",
              "      <td>7304</td>\n",
              "      <td>6371</td>\n",
              "      <td>7304</td>\n",
              "      <td>7304</td>\n",
              "      <td>7303</td>\n",
              "      <td>7303</td>\n",
              "      <td>7303</td>\n",
              "      <td>7304</td>\n",
              "      <td>7304</td>\n",
              "      <td>7304</td>\n",
              "    </tr>\n",
              "    <tr>\n",
              "      <th>12</th>\n",
              "      <td>7916</td>\n",
              "      <td>7916</td>\n",
              "      <td>7916</td>\n",
              "      <td>6902</td>\n",
              "      <td>7916</td>\n",
              "      <td>7916</td>\n",
              "      <td>7911</td>\n",
              "      <td>7916</td>\n",
              "      <td>7916</td>\n",
              "      <td>7916</td>\n",
              "      <td>7916</td>\n",
              "      <td>7916</td>\n",
              "    </tr>\n",
              "  </tbody>\n",
              "</table>\n",
              "</div>"
            ],
            "text/plain": [
              "         lat    lng   desc    zip  ...      e  Reason   Hour  Day of Week\n",
              "Month                              ...                                   \n",
              "1      13096  13096  13096  11512  ...  13096   13096  13096        13096\n",
              "2       7304   7304   7304   6371  ...   7303    7304   7304         7304\n",
              "12      7916   7916   7916   6902  ...   7916    7916   7916         7916\n",
              "\n",
              "[3 rows x 12 columns]"
            ]
          },
          "metadata": {
            "tags": []
          },
          "execution_count": 26
        }
      ]
    },
    {
      "cell_type": "code",
      "metadata": {
        "colab": {
          "base_uri": "https://localhost:8080/",
          "height": 82
        },
        "id": "N3-rOOs707NT",
        "outputId": "6a05b74b-7c79-477c-baab-43ff4a5f09cd"
      },
      "source": [
        " bymonth['twp'].plot()\n",
        " plt.rcParams[\"figure.figsize\"] = (15,13)\n",
        " #Adjusting the position of legend box\n",
        "plt.legend(bbox_to_anchor=(1,1),loc=2)"
      ],
      "execution_count": null,
      "outputs": [
        {
          "output_type": "execute_result",
          "data": {
            "text/plain": [
              "<matplotlib.legend.Legend at 0x7f6e7e23b790>"
            ]
          },
          "metadata": {
            "tags": []
          },
          "execution_count": 27
        },
        {
          "output_type": "display_data",
          "data": {
            "image/png": "[encoded data removed]",
            "text/plain": [
              "<Figure size 7200x216 with 1 Axes>"
            ]
          },
          "metadata": {
            "tags": [],
            "needs_background": "light"
          }
        }
      ]
    },
    {
      "cell_type": "code",
      "metadata": {
        "colab": {
          "base_uri": "https://localhost:8080/",
          "height": 369
        },
        "id": "eMczmAb05AKz",
        "outputId": "e8a6731b-cfc6-49ac-cf6b-1f4ad888c64a"
      },
      "source": [
        "df['Date']=df['timeStamp'].apply(lambda t: t.date())\n",
        "df.groupby('Date').count()['twp'].plot()\n",
        "plt.tight_layout()\n",
        "plt.rcParams[\"figure.figsize\"] = (10,3)"
      ],
      "execution_count": null,
      "outputs": [
        {
          "output_type": "display_data",
          "data": {
            "image/png": "[encoded data removed]",
            "text/plain": [
              "<Figure size 720x360 with 1 Axes>"
            ]
          },
          "metadata": {
            "tags": [],
            "needs_background": "light"
          }
        }
      ]
    },
    {
      "cell_type": "code",
      "metadata": {
        "id": "tK773oir8zBg",
        "colab": {
          "base_uri": "https://localhost:8080/",
          "height": 225
        },
        "outputId": "5ef367bd-ff21-46c7-8b16-6ecfc8a1300f"
      },
      "source": [
        "df[df['Reason']=='Traffic'].groupby('Date').count()['twp'].plot()\n",
        "plt.title('Traffic')\n",
        "plt.tight_layout()\n",
        "plt.rcParams[\"figure.figsize\"] = (10,3)"
      ],
      "execution_count": null,
      "outputs": [
        {
          "output_type": "display_data",
          "data": {
            "image/png": "[encoded data removed]",
            "text/plain": [
              "<Figure size 720x216 with 1 Axes>"
            ]
          },
          "metadata": {
            "tags": [],
            "needs_background": "light"
          }
        }
      ]
    },
    {
      "cell_type": "code",
      "metadata": {
        "colab": {
          "base_uri": "https://localhost:8080/",
          "height": 225
        },
        "id": "muIGIYIUeC7r",
        "outputId": "718177ca-6669-4e89-b63c-e3e5d251d941"
      },
      "source": [
        "df[df['Reason']=='Fire'].groupby('Date').count()['twp'].plot()\n",
        "plt.title('Fire')\n",
        "plt.tight_layout()\n",
        "plt.rcParams[\"figure.figsize\"] = (10,3)"
      ],
      "execution_count": null,
      "outputs": [
        {
          "output_type": "display_data",
          "data": {
            "image/png": "[encoded data removed]",
            "text/plain": [
              "<Figure size 720x216 with 1 Axes>"
            ]
          },
          "metadata": {
            "tags": [],
            "needs_background": "light"
          }
        }
      ]
    },
    {
      "cell_type": "code",
      "metadata": {
        "colab": {
          "base_uri": "https://localhost:8080/",
          "height": 225
        },
        "id": "R5Y5cxuvegKW",
        "outputId": "1d0cf0df-67bf-4942-99ff-d7bfd67cc9ee"
      },
      "source": [
        "df[df['Reason']=='EMS'].groupby('Date').count()['twp'].plot()\n",
        "plt.title('EMS')\n",
        "plt.tight_layout()\n",
        "plt.rcParams[\"figure.figsize\"] = (10,3)"
      ],
      "execution_count": null,
      "outputs": [
        {
          "output_type": "display_data",
          "data": {
            "image/png": "[encoded data removed]",
            "text/plain": [
              "<Figure size 720x216 with 1 Axes>"
            ]
          },
          "metadata": {
            "tags": [],
            "needs_background": "light"
          }
        }
      ]
    },
    {
      "cell_type": "code",
      "metadata": {
        "id": "sfWMt8cOe2S8"
      },
      "source": [
        "dayHour = df.groupby(by=['Day of Week','Hour']).count()['Reason'].unstack()"
      ],
      "execution_count": null,
      "outputs": []
    },
    {
      "cell_type": "code",
      "metadata": {
        "colab": {
          "base_uri": "https://localhost:8080/",
          "height": 624
        },
        "id": "iwANWBgAfx7w",
        "outputId": "1448f913-d4c8-457c-9112-8b58ff3491e8"
      },
      "source": [
        "plt.figure(figsize=(12,10))\n",
        "sns.heatmap(dayHour,cmap='viridis')"
      ],
      "execution_count": null,
      "outputs": [
        {
          "output_type": "execute_result",
          "data": {
            "text/plain": [
              "<matplotlib.axes._subplots.AxesSubplot at 0x7f6e7df70a10>"
            ]
          },
          "metadata": {
            "tags": []
          },
          "execution_count": 53
        },
        {
          "output_type": "display_data",
          "data": {
            "image/png": "[encoded data removed]",
            "text/plain": [
              "<Figure size 864x720 with 2 Axes>"
            ]
          },
          "metadata": {
            "tags": [],
            "needs_background": "light"
          }
        }
      ]
    },
    {
      "cell_type": "code",
      "metadata": {
        "id": "9CFuav5Xf10N"
      },
      "source": [
        ""
      ],
      "execution_count": null,
      "outputs": []
    },
    {
      "cell_type": "code",
      "metadata": {
        "id": "cBSug9nMf7P2"
      },
      "source": [
        ""
      ],
      "execution_count": null,
      "outputs": []
    },
    {
      "cell_type": "code",
      "metadata": {
        "id": "icjtcx6Sf-Xg"
      },
      "source": [
        ""
      ],
      "execution_count": null,
      "outputs": []
    }
  ]
}